{
 "cells": [
  {
   "cell_type": "code",
   "execution_count": 2,
   "metadata": {},
   "outputs": [],
   "source": [
    "import requests\n",
    "login = {\n",
    "    'username': 'kaufmann_api',\n",
    "    'password': 'BpZgb74qtk',\n",
    "}\n",
    "results = requests.post('https://api.odd.co/clairvoyant/jwt-auth/', json=login)\n",
    "token = results.json()['token']"
   ]
  },
  {
   "cell_type": "code",
   "execution_count": 3,
   "metadata": {},
   "outputs": [],
   "source": [
    "params = {\n",
    "    'RUT': '1-1',\n",
    "    'NRO_CHASSIS': 'WDC1234567890',\n",
    "    'PROVINCIA_CLIENTE': 'SANTIAGO',\n",
    "    'FORMA_DE_PAGO': 'NORMAL',\n",
    "    'FAMILIA': 'SUV',\n",
    "    'MODELO': 'CLASE GLC',\n",
    "    'SEXO_CLIENTE': 'Masculino',\n",
    "    'MONTO_VENTA': 41881.4621848739,\n",
    "    'MONEDA': 'DOLAR KAUFMANN',\n",
    "    'TIPO_CAMBIO': 691.92,\n",
    "    'MODELO_DESCRIPCION': 'GLC 220 D'\n",
    "}"
   ]
  },
  {
   "cell_type": "code",
   "execution_count": 4,
   "metadata": {},
   "outputs": [
    {
     "name": "stdout",
     "output_type": "stream",
     "text": [
      "{'predictions': [1128.357084299295]}\n"
     ]
    }
   ],
   "source": [
    "headers = {\n",
    "    'Authorization': 'JWT ' + token\n",
    "}\n",
    "results = requests.post('https://api.odd.co/clairvoyant/kaufmann/kml/',\n",
    "                        headers=headers,\n",
    "                        json=params)\n",
    "\n",
    "print(results.json())"
   ]
  },
  {
   "cell_type": "code",
   "execution_count": null,
   "metadata": {},
   "outputs": [],
   "source": []
  }
 ],
 "metadata": {
  "kernelspec": {
   "display_name": "Python 3",
   "language": "python",
   "name": "python3"
  },
  "language_info": {
   "codemirror_mode": {
    "name": "ipython",
    "version": 3
   },
   "file_extension": ".py",
   "mimetype": "text/x-python",
   "name": "python",
   "nbconvert_exporter": "python",
   "pygments_lexer": "ipython3",
   "version": "3.6.7"
  }
 },
 "nbformat": 4,
 "nbformat_minor": 2
}
