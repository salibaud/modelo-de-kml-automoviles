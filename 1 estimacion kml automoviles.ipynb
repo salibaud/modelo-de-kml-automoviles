{
 "cells": [
  {
   "cell_type": "markdown",
   "metadata": {},
   "source": [
    "# Estimación de kilometraje automoviles kaufmann\n",
    "Este programa toma informacion de ot´s generadas por SAP y procesadas a travez SAS. Las caracteristicas principales son:\n",
    "* Cada linea representa un vehiculo y su venida o no a servicio\n",
    "* Si un vehiculo no viene a servicio entonces solo figura una sola vez\n",
    "* Si un vehiculo viene varias veces a servicio, se duplican las filas tantas veces como sea necesario.\n",
    "\n",
    "Se utilizan las siguientes variables:\n",
    "\n",
    "* ‘NRO_CHASSIS’: esta variable es puramente para registrar la predicción y poder hacer un calculo del error a futuro.\n",
    "* ‘RUT’: Determinar si es persona jurídica o no.\n",
    "* ‘FAMILIA’\n",
    "* ‘MODELO’\n",
    "* ‘MODELO_DESCRIPCION’\n",
    "* ‘SEXO_CLIENTE’\n",
    "* ‘PROVINCIA_CLIENTE’\n",
    "* ‘MONTO_VENTA’\n",
    "* ‘MONEDA’\n",
    "* ‘TIPO_CAMBIO’\n",
    "* ‘FORMA_DE_PAGO’"
   ]
  },
  {
   "cell_type": "code",
   "execution_count": 21,
   "metadata": {},
   "outputs": [],
   "source": [
    "import pandas as pd\n",
    "import os\n",
    "from sklearn.model_selection import train_test_split"
   ]
  },
  {
   "cell_type": "markdown",
   "metadata": {},
   "source": [
    "## Lectura de datos con el data cleaning listo\n",
    "Se realizo la siguiente limpieza de datos:\n",
    "* Generacion de KML_POR_MES = (kilometraje/dias(fecha atencion-fecha de venta))*30\n",
    "* Dias entre (fecha atencion-fecha de venta) >60\n",
    "* Valores solo entre p1 < kml_por_mes < p99\n",
    "* Modelo_descricpion se transforma a variable blue_efficiency (binaria) y modelo de vehiculo (multinomial)\n",
    "* Monto venta todo el clp\n",
    "* Se descartan valores de autos usados\n",
    "* Solo familias NGCC, MID SIZE, SUV o DREAM CARS"
   ]
  },
  {
   "cell_type": "code",
   "execution_count": 22,
   "metadata": {},
   "outputs": [
    {
     "data": {
      "text/html": [
       "<div>\n",
       "<style scoped>\n",
       "    .dataframe tbody tr th:only-of-type {\n",
       "        vertical-align: middle;\n",
       "    }\n",
       "\n",
       "    .dataframe tbody tr th {\n",
       "        vertical-align: top;\n",
       "    }\n",
       "\n",
       "    .dataframe thead th {\n",
       "        text-align: right;\n",
       "    }\n",
       "</style>\n",
       "<table border=\"1\" class=\"dataframe\">\n",
       "  <thead>\n",
       "    <tr style=\"text-align: right;\">\n",
       "      <th></th>\n",
       "      <th>NRO_CHASSIS</th>\n",
       "      <th>PROVINCIA_CLIENTE</th>\n",
       "      <th>FORMA_DE_PAGO</th>\n",
       "      <th>FAMILIA</th>\n",
       "      <th>SEXO_CLIENTE</th>\n",
       "      <th>KML_POR_MES</th>\n",
       "      <th>BLUE_EFFICIENCY</th>\n",
       "      <th>MODELO_VEHICULO</th>\n",
       "      <th>MONTO_VENTA</th>\n",
       "      <th>TIPO_PERS</th>\n",
       "    </tr>\n",
       "  </thead>\n",
       "  <tbody>\n",
       "    <tr>\n",
       "      <th>0</th>\n",
       "      <td>WDD2120651A890108</td>\n",
       "      <td>VALPARAISO</td>\n",
       "      <td>NORMAL</td>\n",
       "      <td>MID SIZE</td>\n",
       "      <td>2</td>\n",
       "      <td>761.297710</td>\n",
       "      <td>0</td>\n",
       "      <td>CLASE E</td>\n",
       "      <td>3.753816e+07</td>\n",
       "      <td>0</td>\n",
       "    </tr>\n",
       "    <tr>\n",
       "      <th>1</th>\n",
       "      <td>WDD2120651A890108</td>\n",
       "      <td>VALPARAISO</td>\n",
       "      <td>NORMAL</td>\n",
       "      <td>MID SIZE</td>\n",
       "      <td>2</td>\n",
       "      <td>534.046021</td>\n",
       "      <td>0</td>\n",
       "      <td>CLASE E</td>\n",
       "      <td>3.753816e+07</td>\n",
       "      <td>0</td>\n",
       "    </tr>\n",
       "    <tr>\n",
       "      <th>2</th>\n",
       "      <td>WDD2120651A890108</td>\n",
       "      <td>VALPARAISO</td>\n",
       "      <td>NORMAL</td>\n",
       "      <td>MID SIZE</td>\n",
       "      <td>2</td>\n",
       "      <td>365.498339</td>\n",
       "      <td>0</td>\n",
       "      <td>CLASE E</td>\n",
       "      <td>3.753816e+07</td>\n",
       "      <td>0</td>\n",
       "    </tr>\n",
       "    <tr>\n",
       "      <th>3</th>\n",
       "      <td>WDD2130421A019733</td>\n",
       "      <td>CAUQUENES</td>\n",
       "      <td>NORMAL</td>\n",
       "      <td>MID SIZE</td>\n",
       "      <td>1</td>\n",
       "      <td>684.586466</td>\n",
       "      <td>0</td>\n",
       "      <td>CLASE E</td>\n",
       "      <td>2.788069e+07</td>\n",
       "      <td>0</td>\n",
       "    </tr>\n",
       "    <tr>\n",
       "      <th>4</th>\n",
       "      <td>WDD2130421A019733</td>\n",
       "      <td>CAUQUENES</td>\n",
       "      <td>NORMAL</td>\n",
       "      <td>MID SIZE</td>\n",
       "      <td>1</td>\n",
       "      <td>676.289062</td>\n",
       "      <td>0</td>\n",
       "      <td>CLASE E</td>\n",
       "      <td>2.788069e+07</td>\n",
       "      <td>0</td>\n",
       "    </tr>\n",
       "  </tbody>\n",
       "</table>\n",
       "</div>"
      ],
      "text/plain": [
       "         NRO_CHASSIS PROVINCIA_CLIENTE FORMA_DE_PAGO   FAMILIA  SEXO_CLIENTE  \\\n",
       "0  WDD2120651A890108        VALPARAISO        NORMAL  MID SIZE             2   \n",
       "1  WDD2120651A890108        VALPARAISO        NORMAL  MID SIZE             2   \n",
       "2  WDD2120651A890108        VALPARAISO        NORMAL  MID SIZE             2   \n",
       "3  WDD2130421A019733         CAUQUENES        NORMAL  MID SIZE             1   \n",
       "4  WDD2130421A019733         CAUQUENES        NORMAL  MID SIZE             1   \n",
       "\n",
       "   KML_POR_MES  BLUE_EFFICIENCY MODELO_VEHICULO   MONTO_VENTA  TIPO_PERS  \n",
       "0   761.297710                0         CLASE E  3.753816e+07          0  \n",
       "1   534.046021                0         CLASE E  3.753816e+07          0  \n",
       "2   365.498339                0         CLASE E  3.753816e+07          0  \n",
       "3   684.586466                0         CLASE E  2.788069e+07          0  \n",
       "4   676.289062                0         CLASE E  2.788069e+07          0  "
      ]
     },
     "execution_count": 22,
     "metadata": {},
     "output_type": "execute_result"
    }
   ],
   "source": [
    "mainpath = \"/Users/salibaud/Desktop/python/kaufmann/ESTIMADOR DE KML AUTOMOVILES\"\n",
    "filename = \"ML_ESTIMACION_KML.xlsx\"\n",
    "fullpath = os.path.join(mainpath, filename)\n",
    "#data = pd.read_sas(r\"\\\\10.1.1.58\\datos\\CHILE\\IMPORTER_BUSINESS_MANAGEMENT\\ml_estimacion_kml.sas7bdat\")\n",
    "xl = pd.ExcelFile(fullpath)\n",
    "xl\n",
    "data = xl.parse('Sheet1')\n",
    "data.head()\n"
   ]
  },
  {
   "cell_type": "markdown",
   "metadata": {},
   "source": [
    "## Inicio del Data Wrangling\n",
    "* Generacion de variables dummy"
   ]
  },
  {
   "cell_type": "code",
   "execution_count": 23,
   "metadata": {},
   "outputs": [],
   "source": [
    "def variables_dummy(dataset,variable):\n",
    "    cat_dummies = pd.get_dummies(dataset[variable],prefix=variable)\n",
    "    #.iloc[:,1:]\n",
    "    data_new = dataset.join(cat_dummies)\n",
    "    dataset = data_new.drop([variable],axis=1)\n",
    "    return dataset"
   ]
  },
  {
   "cell_type": "code",
   "execution_count": 24,
   "metadata": {},
   "outputs": [
    {
     "data": {
      "text/plain": [
       "Index(['NRO_CHASSIS', 'PROVINCIA_CLIENTE', 'FORMA_DE_PAGO', 'FAMILIA',\n",
       "       'SEXO_CLIENTE', 'KML_POR_MES', 'BLUE_EFFICIENCY', 'MODELO_VEHICULO',\n",
       "       'MONTO_VENTA', 'TIPO_PERS'],\n",
       "      dtype='object')"
      ]
     },
     "execution_count": 24,
     "metadata": {},
     "output_type": "execute_result"
    }
   ],
   "source": [
    "tabla=variables_dummy(data,\"PROVINCIA_CLIENTE\")\n",
    "tabla=variables_dummy(tabla,\"MODELO_VEHICULO\")\n",
    "tabla=variables_dummy(tabla,\"FAMILIA\")\n",
    "tabla=variables_dummy(tabla,\"TIPO_PERS\")\n",
    "tabla=variables_dummy(tabla,\"SEXO_CLIENTE\")\n",
    "tabla=variables_dummy(tabla,\"FORMA_DE_PAGO\")\n",
    "data.columns"
   ]
  },
  {
   "cell_type": "code",
   "execution_count": 25,
   "metadata": {},
   "outputs": [
    {
     "data": {
      "text/plain": [
       "Index(['BLUE_EFFICIENCY', 'MONTO_VENTA', 'PROVINCIA_CLIENTE_ANTOFAGASTA',\n",
       "       'PROVINCIA_CLIENTE_ARAUCO', 'PROVINCIA_CLIENTE_ARICA',\n",
       "       'PROVINCIA_CLIENTE_BIO BIO', 'PROVINCIA_CLIENTE_CACHAPOAL',\n",
       "       'PROVINCIA_CLIENTE_CALERA DE TANGO', 'PROVINCIA_CLIENTE_CARDENAL CARO',\n",
       "       'PROVINCIA_CLIENTE_CAUQUENES', 'PROVINCIA_CLIENTE_CAUTIN',\n",
       "       'PROVINCIA_CLIENTE_CHACABUCO', 'PROVINCIA_CLIENTE_CHAÑARAL',\n",
       "       'PROVINCIA_CLIENTE_CHILOE', 'PROVINCIA_CLIENTE_CHOAPA',\n",
       "       'PROVINCIA_CLIENTE_COIHAIQUE', 'PROVINCIA_CLIENTE_COLCHAGUA',\n",
       "       'PROVINCIA_CLIENTE_COLINA', 'PROVINCIA_CLIENTE_CONCEPCION',\n",
       "       'PROVINCIA_CLIENTE_COPIAPO', 'PROVINCIA_CLIENTE_CORDILLERA',\n",
       "       'PROVINCIA_CLIENTE_COYHAIQUE', 'PROVINCIA_CLIENTE_CURICO',\n",
       "       'PROVINCIA_CLIENTE_EL LOA', 'PROVINCIA_CLIENTE_ELQUI',\n",
       "       'PROVINCIA_CLIENTE_HUASCO', 'PROVINCIA_CLIENTE_IQUIQUE',\n",
       "       'PROVINCIA_CLIENTE_LIMARI', 'PROVINCIA_CLIENTE_LINARES',\n",
       "       'PROVINCIA_CLIENTE_LLANQUIHUE', 'PROVINCIA_CLIENTE_LOS ANDES',\n",
       "       'PROVINCIA_CLIENTE_MAGALLANES', 'PROVINCIA_CLIENTE_MAIPO',\n",
       "       'PROVINCIA_CLIENTE_MALLECO', 'PROVINCIA_CLIENTE_MARGA MARGA',\n",
       "       'PROVINCIA_CLIENTE_MELIPILLA', 'PROVINCIA_CLIENTE_OSORNO',\n",
       "       'PROVINCIA_CLIENTE_PADRE HURTADO', 'PROVINCIA_CLIENTE_PETORCA',\n",
       "       'PROVINCIA_CLIENTE_PUCON', 'PROVINCIA_CLIENTE_QUILLOTA',\n",
       "       'PROVINCIA_CLIENTE_RANCAGUA', 'PROVINCIA_CLIENTE_RANCO',\n",
       "       'PROVINCIA_CLIENTE_SAN ANTONIO',\n",
       "       'PROVINCIA_CLIENTE_SAN FELIPE DE ACONCAGUA',\n",
       "       'PROVINCIA_CLIENTE_SAN JOSE DE MAIPO', 'PROVINCIA_CLIENTE_SANTIAGO',\n",
       "       'PROVINCIA_CLIENTE_TALAGANTE', 'PROVINCIA_CLIENTE_TALCA',\n",
       "       'PROVINCIA_CLIENTE_TAMARUGAL', 'PROVINCIA_CLIENTE_ULTIMA ESPERANZA',\n",
       "       'PROVINCIA_CLIENTE_VALDIVIA', 'PROVINCIA_CLIENTE_VALPARAISO',\n",
       "       'PROVINCIA_CLIENTE_ÑUBLE', 'MODELO_VEHICULO_CLASE A',\n",
       "       'MODELO_VEHICULO_CLASE AMG', 'MODELO_VEHICULO_CLASE B',\n",
       "       'MODELO_VEHICULO_CLASE C', 'MODELO_VEHICULO_CLASE CL',\n",
       "       'MODELO_VEHICULO_CLASE CLA', 'MODELO_VEHICULO_CLASE E',\n",
       "       'MODELO_VEHICULO_CLASE G', 'MODELO_VEHICULO_CLASE GL',\n",
       "       'MODELO_VEHICULO_CLASE GLA', 'MODELO_VEHICULO_CLASE GLC',\n",
       "       'MODELO_VEHICULO_CLASE GLK', 'MODELO_VEHICULO_CLASE ML',\n",
       "       'MODELO_VEHICULO_CLASE S', 'MODELO_VEHICULO_CLASE SL',\n",
       "       'MODELO_VEHICULO_CLASE SLK', 'FAMILIA_DREAM CARS', 'FAMILIA_MID SIZE',\n",
       "       'FAMILIA_NGCC', 'FAMILIA_SUV', 'TIPO_PERS_0', 'TIPO_PERS_1',\n",
       "       'SEXO_CLIENTE_0', 'SEXO_CLIENTE_1', 'SEXO_CLIENTE_2',\n",
       "       'FORMA_DE_PAGO_FINANC. EXTERNO', 'FORMA_DE_PAGO_LEASING',\n",
       "       'FORMA_DE_PAGO_NORMAL'],\n",
       "      dtype='object')"
      ]
     },
     "execution_count": 25,
     "metadata": {},
     "output_type": "execute_result"
    }
   ],
   "source": [
    "y=tabla[\"KML_POR_MES\"]\n",
    "x=tabla.drop([\"KML_POR_MES\",\"NRO_CHASSIS\"], axis=1)\n",
    "x.columns\n"
   ]
  },
  {
   "cell_type": "code",
   "execution_count": 26,
   "metadata": {},
   "outputs": [],
   "source": [
    "x_train,x_test,y_train,y_test=train_test_split(x,y)"
   ]
  },
  {
   "cell_type": "code",
   "execution_count": 27,
   "metadata": {},
   "outputs": [],
   "source": [
    "import matplotlib.pyplot as plt\n",
    "from sklearn import model_selection\n",
    "from sklearn.linear_model import LinearRegression\n",
    "from sklearn.linear_model import Ridge\n",
    "from sklearn.linear_model import BayesianRidge\n",
    "from sklearn.linear_model import SGDRegressor\n",
    "from sklearn.ensemble import RandomForestRegressor\n",
    "from sklearn.ensemble import GradientBoostingRegressor\n",
    "from sklearn.neural_network import MLPRegressor\n",
    "from sklearn.tree import DecisionTreeRegressor\n",
    "from sklearn.ensemble import  AdaBoostRegressor\n",
    "from sklearn.discriminant_analysis import LinearDiscriminantAnalysis\n",
    "from sklearn import metrics \n",
    "\n",
    "import warnings\n",
    "import numpy as np"
   ]
  },
  {
   "cell_type": "code",
   "execution_count": 28,
   "metadata": {},
   "outputs": [],
   "source": [
    "modelos = [[\"LM\",\"RIDGE\",\"BRIDGE\",\"TREE\",\"RandomForest\",\"GBOOST\",\"ADABOOST\",\"MLPREGRESOR\"],\n",
    "           [LinearRegression(fit_intercept=True, normalize=True),\n",
    "            Ridge(),\n",
    "            BayesianRidge(),\n",
    "            DecisionTreeRegressor(max_depth=30),\n",
    "            RandomForestRegressor(),\n",
    "            GradientBoostingRegressor(),\n",
    "            AdaBoostRegressor(),\n",
    "            MLPRegressor(hidden_layer_sizes=(60,),  activation='tanh', solver='lbfgs', alpha=0.00001)]\n",
    "          ]\n",
    "warnings.filterwarnings(\"ignore\")"
   ]
  },
  {
   "cell_type": "code",
   "execution_count": 29,
   "metadata": {},
   "outputs": [
    {
     "name": "stdout",
     "output_type": "stream",
     "text": [
      "modelo: LM\n",
      "ajuste de: 0.14510635168979447\n",
      "modelo: RIDGE\n",
      "ajuste de: 0.14495536437304135\n",
      "modelo: BRIDGE\n",
      "ajuste de: 0.14509262792985367\n",
      "modelo: TREE\n",
      "ajuste de: 0.6365874172846447\n",
      "modelo: RandomForest\n",
      "ajuste de: 0.6960378145055581\n",
      "modelo: GBOOST\n",
      "ajuste de: 0.17179755828168786\n",
      "modelo: ADABOOST\n",
      "ajuste de: -0.20739161403772677\n",
      "modelo: MLPREGRESOR\n",
      "ajuste de: -1.612805199746603e-05\n"
     ]
    }
   ],
   "source": [
    "resultados=[]\n",
    "predicion=[]\n",
    "error=[]\n",
    "precision=[]\n",
    "a=0\n",
    "for i in modelos[1]:\n",
    "    ajuste=i.fit(x_train,y_train)\n",
    "    resultados.append(ajuste)\n",
    "    predicion.append(ajuste.predict(x_test))\n",
    "    er = np.sqrt(metrics.mean_squared_error(y_test,ajuste.predict(x_test)))\n",
    "    error.append(er)\n",
    "    precision.append(ajuste.score(x_test , y_test))\n",
    "    print(\"modelo:\",modelos[0][a])\n",
    "    print(\"ajuste de:\", ajuste.score(x_test , y_test))\n",
    "    a=a+1"
   ]
  },
  {
   "cell_type": "markdown",
   "metadata": {},
   "source": [
    "### De los modelos analizados, buscamos el que tenga mayor presicion"
   ]
  },
  {
   "cell_type": "code",
   "execution_count": 30,
   "metadata": {},
   "outputs": [],
   "source": [
    "# RMSE\n",
    "resumen=pd.DataFrame(list(zip(np.array(modelos[0]).T.tolist(),error,precision)))\n",
    "resumen.columns=[\"Modelo\",\"Error\",\"Precision\"]\n",
    "#resumen"
   ]
  },
  {
   "cell_type": "code",
   "execution_count": 31,
   "metadata": {},
   "outputs": [],
   "source": [
    "#busco maxima precision\n",
    "max_pre=resumen.max(axis=0)[\"Precision\"]\n",
    "#busco modelo\n",
    "selec=resumen[resumen[\"Precision\"]==max_pre]"
   ]
  },
  {
   "cell_type": "code",
   "execution_count": 32,
   "metadata": {},
   "outputs": [],
   "source": [
    "a=selec[\"Modelo\"]\n",
    "for i,w in zip(modelos[0],modelos[1]):\n",
    "    for j in selec[\"Modelo\"]:\n",
    "        if i == j:\n",
    "            modelo_final = w"
   ]
  },
  {
   "cell_type": "code",
   "execution_count": 33,
   "metadata": {},
   "outputs": [],
   "source": [
    "#modelo_final"
   ]
  },
  {
   "cell_type": "code",
   "execution_count": 14,
   "metadata": {},
   "outputs": [],
   "source": [
    "#importancia = pd.DataFrame(list(zip(x_train.columns, modelo_final.feature_importances_)))\n",
    "#importancia.sort_values(1,ascending=False)"
   ]
  },
  {
   "cell_type": "code",
   "execution_count": 34,
   "metadata": {},
   "outputs": [
    {
     "data": {
      "text/plain": [
       "Index(['BLUE_EFFICIENCY', 'MONTO_VENTA', 'PROVINCIA_CLIENTE_ANTOFAGASTA',\n",
       "       'PROVINCIA_CLIENTE_ARAUCO', 'PROVINCIA_CLIENTE_ARICA',\n",
       "       'PROVINCIA_CLIENTE_BIO BIO', 'PROVINCIA_CLIENTE_CACHAPOAL',\n",
       "       'PROVINCIA_CLIENTE_CALERA DE TANGO', 'PROVINCIA_CLIENTE_CARDENAL CARO',\n",
       "       'PROVINCIA_CLIENTE_CAUQUENES', 'PROVINCIA_CLIENTE_CAUTIN',\n",
       "       'PROVINCIA_CLIENTE_CHACABUCO', 'PROVINCIA_CLIENTE_CHAÑARAL',\n",
       "       'PROVINCIA_CLIENTE_CHILOE', 'PROVINCIA_CLIENTE_CHOAPA',\n",
       "       'PROVINCIA_CLIENTE_COIHAIQUE', 'PROVINCIA_CLIENTE_COLCHAGUA',\n",
       "       'PROVINCIA_CLIENTE_COLINA', 'PROVINCIA_CLIENTE_CONCEPCION',\n",
       "       'PROVINCIA_CLIENTE_COPIAPO', 'PROVINCIA_CLIENTE_CORDILLERA',\n",
       "       'PROVINCIA_CLIENTE_COYHAIQUE', 'PROVINCIA_CLIENTE_CURICO',\n",
       "       'PROVINCIA_CLIENTE_EL LOA', 'PROVINCIA_CLIENTE_ELQUI',\n",
       "       'PROVINCIA_CLIENTE_HUASCO', 'PROVINCIA_CLIENTE_IQUIQUE',\n",
       "       'PROVINCIA_CLIENTE_LIMARI', 'PROVINCIA_CLIENTE_LINARES',\n",
       "       'PROVINCIA_CLIENTE_LLANQUIHUE', 'PROVINCIA_CLIENTE_LOS ANDES',\n",
       "       'PROVINCIA_CLIENTE_MAGALLANES', 'PROVINCIA_CLIENTE_MAIPO',\n",
       "       'PROVINCIA_CLIENTE_MALLECO', 'PROVINCIA_CLIENTE_MARGA MARGA',\n",
       "       'PROVINCIA_CLIENTE_MELIPILLA', 'PROVINCIA_CLIENTE_OSORNO',\n",
       "       'PROVINCIA_CLIENTE_PADRE HURTADO', 'PROVINCIA_CLIENTE_PETORCA',\n",
       "       'PROVINCIA_CLIENTE_PUCON', 'PROVINCIA_CLIENTE_QUILLOTA',\n",
       "       'PROVINCIA_CLIENTE_RANCAGUA', 'PROVINCIA_CLIENTE_RANCO',\n",
       "       'PROVINCIA_CLIENTE_SAN ANTONIO',\n",
       "       'PROVINCIA_CLIENTE_SAN FELIPE DE ACONCAGUA',\n",
       "       'PROVINCIA_CLIENTE_SAN JOSE DE MAIPO', 'PROVINCIA_CLIENTE_SANTIAGO',\n",
       "       'PROVINCIA_CLIENTE_TALAGANTE', 'PROVINCIA_CLIENTE_TALCA',\n",
       "       'PROVINCIA_CLIENTE_TAMARUGAL', 'PROVINCIA_CLIENTE_ULTIMA ESPERANZA',\n",
       "       'PROVINCIA_CLIENTE_VALDIVIA', 'PROVINCIA_CLIENTE_VALPARAISO',\n",
       "       'PROVINCIA_CLIENTE_ÑUBLE', 'MODELO_VEHICULO_CLASE A',\n",
       "       'MODELO_VEHICULO_CLASE AMG', 'MODELO_VEHICULO_CLASE B',\n",
       "       'MODELO_VEHICULO_CLASE C', 'MODELO_VEHICULO_CLASE CL',\n",
       "       'MODELO_VEHICULO_CLASE CLA', 'MODELO_VEHICULO_CLASE E',\n",
       "       'MODELO_VEHICULO_CLASE G', 'MODELO_VEHICULO_CLASE GL',\n",
       "       'MODELO_VEHICULO_CLASE GLA', 'MODELO_VEHICULO_CLASE GLC',\n",
       "       'MODELO_VEHICULO_CLASE GLK', 'MODELO_VEHICULO_CLASE ML',\n",
       "       'MODELO_VEHICULO_CLASE S', 'MODELO_VEHICULO_CLASE SL',\n",
       "       'MODELO_VEHICULO_CLASE SLK', 'FAMILIA_DREAM CARS', 'FAMILIA_MID SIZE',\n",
       "       'FAMILIA_NGCC', 'FAMILIA_SUV', 'TIPO_PERS_0', 'TIPO_PERS_1',\n",
       "       'SEXO_CLIENTE_0', 'SEXO_CLIENTE_1', 'SEXO_CLIENTE_2',\n",
       "       'FORMA_DE_PAGO_FINANC. EXTERNO', 'FORMA_DE_PAGO_LEASING',\n",
       "       'FORMA_DE_PAGO_NORMAL'],\n",
       "      dtype='object')"
      ]
     },
     "execution_count": 34,
     "metadata": {},
     "output_type": "execute_result"
    }
   ],
   "source": [
    "modelo_final.predict(x_test)\n",
    "x_test.columns"
   ]
  },
  {
   "cell_type": "code",
   "execution_count": 16,
   "metadata": {},
   "outputs": [],
   "source": [
    "#modelo_final.predict(x_test)"
   ]
  },
  {
   "cell_type": "code",
   "execution_count": 17,
   "metadata": {},
   "outputs": [],
   "source": [
    "from sklearn.externals import joblib"
   ]
  },
  {
   "cell_type": "code",
   "execution_count": 18,
   "metadata": {},
   "outputs": [
    {
     "data": {
      "text/plain": [
       "['modelo_entrenado.pkl']"
      ]
     },
     "execution_count": 18,
     "metadata": {},
     "output_type": "execute_result"
    }
   ],
   "source": [
    "joblib.dump(modelo_final,'modelo_entrenado.pkl')"
   ]
  },
  {
   "cell_type": "code",
   "execution_count": 19,
   "metadata": {},
   "outputs": [],
   "source": [
    "#x.columns.values.tolist()"
   ]
  },
  {
   "cell_type": "code",
   "execution_count": 20,
   "metadata": {},
   "outputs": [],
   "source": [
    "import requests\n",
    "\n",
    "SERVER='http://api.odd.co'\n",
    "\n",
    "login = {\n",
    "    'username': 'kaufmann_api',\n",
    "    'password': 'BpZgb74qtk',\n",
    "}\n",
    "results = requests.post(SERVER + '/clairvoyant/jwt-auth/', json=login)\n",
    "\n"
   ]
  },
  {
   "cell_type": "code",
   "execution_count": 9,
   "metadata": {},
   "outputs": [
    {
     "ename": "JSONDecodeError",
     "evalue": "Expecting value: line 1 column 1 (char 0)",
     "output_type": "error",
     "traceback": [
      "\u001b[1;31m---------------------------------------------------------------------------\u001b[0m",
      "\u001b[1;31mJSONDecodeError\u001b[0m                           Traceback (most recent call last)",
      "\u001b[1;32m<ipython-input-9-0232120f0cc5>\u001b[0m in \u001b[0;36m<module>\u001b[1;34m\u001b[0m\n\u001b[1;32m----> 1\u001b[1;33m \u001b[0mtoken\u001b[0m \u001b[1;33m=\u001b[0m \u001b[0mresults\u001b[0m\u001b[1;33m.\u001b[0m\u001b[0mjson\u001b[0m\u001b[1;33m(\u001b[0m\u001b[1;33m)\u001b[0m\u001b[1;33m[\u001b[0m\u001b[1;34m'token'\u001b[0m\u001b[1;33m]\u001b[0m\u001b[1;33m\u001b[0m\u001b[1;33m\u001b[0m\u001b[0m\n\u001b[0m",
      "\u001b[1;32m~\\AppData\\Local\\Continuum\\anaconda3\\envs\\ml\\lib\\site-packages\\requests\\models.py\u001b[0m in \u001b[0;36mjson\u001b[1;34m(self, **kwargs)\u001b[0m\n\u001b[0;32m    895\u001b[0m                     \u001b[1;31m# used.\u001b[0m\u001b[1;33m\u001b[0m\u001b[1;33m\u001b[0m\u001b[1;33m\u001b[0m\u001b[0m\n\u001b[0;32m    896\u001b[0m                     \u001b[1;32mpass\u001b[0m\u001b[1;33m\u001b[0m\u001b[1;33m\u001b[0m\u001b[0m\n\u001b[1;32m--> 897\u001b[1;33m         \u001b[1;32mreturn\u001b[0m \u001b[0mcomplexjson\u001b[0m\u001b[1;33m.\u001b[0m\u001b[0mloads\u001b[0m\u001b[1;33m(\u001b[0m\u001b[0mself\u001b[0m\u001b[1;33m.\u001b[0m\u001b[0mtext\u001b[0m\u001b[1;33m,\u001b[0m \u001b[1;33m**\u001b[0m\u001b[0mkwargs\u001b[0m\u001b[1;33m)\u001b[0m\u001b[1;33m\u001b[0m\u001b[1;33m\u001b[0m\u001b[0m\n\u001b[0m\u001b[0;32m    898\u001b[0m \u001b[1;33m\u001b[0m\u001b[0m\n\u001b[0;32m    899\u001b[0m     \u001b[1;33m@\u001b[0m\u001b[0mproperty\u001b[0m\u001b[1;33m\u001b[0m\u001b[1;33m\u001b[0m\u001b[0m\n",
      "\u001b[1;32m~\\AppData\\Local\\Continuum\\anaconda3\\envs\\ml\\lib\\json\\__init__.py\u001b[0m in \u001b[0;36mloads\u001b[1;34m(s, encoding, cls, object_hook, parse_float, parse_int, parse_constant, object_pairs_hook, **kw)\u001b[0m\n\u001b[0;32m    352\u001b[0m             \u001b[0mparse_int\u001b[0m \u001b[1;32mis\u001b[0m \u001b[1;32mNone\u001b[0m \u001b[1;32mand\u001b[0m \u001b[0mparse_float\u001b[0m \u001b[1;32mis\u001b[0m \u001b[1;32mNone\u001b[0m \u001b[1;32mand\u001b[0m\u001b[1;33m\u001b[0m\u001b[1;33m\u001b[0m\u001b[0m\n\u001b[0;32m    353\u001b[0m             parse_constant is None and object_pairs_hook is None and not kw):\n\u001b[1;32m--> 354\u001b[1;33m         \u001b[1;32mreturn\u001b[0m \u001b[0m_default_decoder\u001b[0m\u001b[1;33m.\u001b[0m\u001b[0mdecode\u001b[0m\u001b[1;33m(\u001b[0m\u001b[0ms\u001b[0m\u001b[1;33m)\u001b[0m\u001b[1;33m\u001b[0m\u001b[1;33m\u001b[0m\u001b[0m\n\u001b[0m\u001b[0;32m    355\u001b[0m     \u001b[1;32mif\u001b[0m \u001b[0mcls\u001b[0m \u001b[1;32mis\u001b[0m \u001b[1;32mNone\u001b[0m\u001b[1;33m:\u001b[0m\u001b[1;33m\u001b[0m\u001b[1;33m\u001b[0m\u001b[0m\n\u001b[0;32m    356\u001b[0m         \u001b[0mcls\u001b[0m \u001b[1;33m=\u001b[0m \u001b[0mJSONDecoder\u001b[0m\u001b[1;33m\u001b[0m\u001b[1;33m\u001b[0m\u001b[0m\n",
      "\u001b[1;32m~\\AppData\\Local\\Continuum\\anaconda3\\envs\\ml\\lib\\json\\decoder.py\u001b[0m in \u001b[0;36mdecode\u001b[1;34m(self, s, _w)\u001b[0m\n\u001b[0;32m    337\u001b[0m \u001b[1;33m\u001b[0m\u001b[0m\n\u001b[0;32m    338\u001b[0m         \"\"\"\n\u001b[1;32m--> 339\u001b[1;33m         \u001b[0mobj\u001b[0m\u001b[1;33m,\u001b[0m \u001b[0mend\u001b[0m \u001b[1;33m=\u001b[0m \u001b[0mself\u001b[0m\u001b[1;33m.\u001b[0m\u001b[0mraw_decode\u001b[0m\u001b[1;33m(\u001b[0m\u001b[0ms\u001b[0m\u001b[1;33m,\u001b[0m \u001b[0midx\u001b[0m\u001b[1;33m=\u001b[0m\u001b[0m_w\u001b[0m\u001b[1;33m(\u001b[0m\u001b[0ms\u001b[0m\u001b[1;33m,\u001b[0m \u001b[1;36m0\u001b[0m\u001b[1;33m)\u001b[0m\u001b[1;33m.\u001b[0m\u001b[0mend\u001b[0m\u001b[1;33m(\u001b[0m\u001b[1;33m)\u001b[0m\u001b[1;33m)\u001b[0m\u001b[1;33m\u001b[0m\u001b[1;33m\u001b[0m\u001b[0m\n\u001b[0m\u001b[0;32m    340\u001b[0m         \u001b[0mend\u001b[0m \u001b[1;33m=\u001b[0m \u001b[0m_w\u001b[0m\u001b[1;33m(\u001b[0m\u001b[0ms\u001b[0m\u001b[1;33m,\u001b[0m \u001b[0mend\u001b[0m\u001b[1;33m)\u001b[0m\u001b[1;33m.\u001b[0m\u001b[0mend\u001b[0m\u001b[1;33m(\u001b[0m\u001b[1;33m)\u001b[0m\u001b[1;33m\u001b[0m\u001b[1;33m\u001b[0m\u001b[0m\n\u001b[0;32m    341\u001b[0m         \u001b[1;32mif\u001b[0m \u001b[0mend\u001b[0m \u001b[1;33m!=\u001b[0m \u001b[0mlen\u001b[0m\u001b[1;33m(\u001b[0m\u001b[0ms\u001b[0m\u001b[1;33m)\u001b[0m\u001b[1;33m:\u001b[0m\u001b[1;33m\u001b[0m\u001b[1;33m\u001b[0m\u001b[0m\n",
      "\u001b[1;32m~\\AppData\\Local\\Continuum\\anaconda3\\envs\\ml\\lib\\json\\decoder.py\u001b[0m in \u001b[0;36mraw_decode\u001b[1;34m(self, s, idx)\u001b[0m\n\u001b[0;32m    355\u001b[0m             \u001b[0mobj\u001b[0m\u001b[1;33m,\u001b[0m \u001b[0mend\u001b[0m \u001b[1;33m=\u001b[0m \u001b[0mself\u001b[0m\u001b[1;33m.\u001b[0m\u001b[0mscan_once\u001b[0m\u001b[1;33m(\u001b[0m\u001b[0ms\u001b[0m\u001b[1;33m,\u001b[0m \u001b[0midx\u001b[0m\u001b[1;33m)\u001b[0m\u001b[1;33m\u001b[0m\u001b[1;33m\u001b[0m\u001b[0m\n\u001b[0;32m    356\u001b[0m         \u001b[1;32mexcept\u001b[0m \u001b[0mStopIteration\u001b[0m \u001b[1;32mas\u001b[0m \u001b[0merr\u001b[0m\u001b[1;33m:\u001b[0m\u001b[1;33m\u001b[0m\u001b[1;33m\u001b[0m\u001b[0m\n\u001b[1;32m--> 357\u001b[1;33m             \u001b[1;32mraise\u001b[0m \u001b[0mJSONDecodeError\u001b[0m\u001b[1;33m(\u001b[0m\u001b[1;34m\"Expecting value\"\u001b[0m\u001b[1;33m,\u001b[0m \u001b[0ms\u001b[0m\u001b[1;33m,\u001b[0m \u001b[0merr\u001b[0m\u001b[1;33m.\u001b[0m\u001b[0mvalue\u001b[0m\u001b[1;33m)\u001b[0m \u001b[1;32mfrom\u001b[0m \u001b[1;32mNone\u001b[0m\u001b[1;33m\u001b[0m\u001b[1;33m\u001b[0m\u001b[0m\n\u001b[0m\u001b[0;32m    358\u001b[0m         \u001b[1;32mreturn\u001b[0m \u001b[0mobj\u001b[0m\u001b[1;33m,\u001b[0m \u001b[0mend\u001b[0m\u001b[1;33m\u001b[0m\u001b[1;33m\u001b[0m\u001b[0m\n",
      "\u001b[1;31mJSONDecodeError\u001b[0m: Expecting value: line 1 column 1 (char 0)"
     ]
    }
   ],
   "source": [
    "token = results.json()['token']"
   ]
  },
  {
   "cell_type": "code",
   "execution_count": null,
   "metadata": {},
   "outputs": [],
   "source": []
  }
 ],
 "metadata": {
  "kernelspec": {
   "display_name": "Python 3",
   "language": "python",
   "name": "python3"
  },
  "language_info": {
   "codemirror_mode": {
    "name": "ipython",
    "version": 3
   },
   "file_extension": ".py",
   "mimetype": "text/x-python",
   "name": "python",
   "nbconvert_exporter": "python",
   "pygments_lexer": "ipython3",
   "version": "3.6.7"
  }
 },
 "nbformat": 4,
 "nbformat_minor": 2
}
