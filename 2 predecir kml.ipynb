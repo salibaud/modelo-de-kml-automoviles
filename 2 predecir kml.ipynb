{
 "cells": [
  {
   "cell_type": "markdown",
   "metadata": {},
   "source": [
    "# Generacion de predicciones medite uso de modelo ya entrenado"
   ]
  },
  {
   "cell_type": "code",
   "execution_count": 21,
   "metadata": {},
   "outputs": [],
   "source": [
    "from sklearn.externals import joblib\n",
    "import pandas as pd\n",
    "\n"
   ]
  },
  {
   "cell_type": "code",
   "execution_count": 12,
   "metadata": {},
   "outputs": [],
   "source": [
    "#arreglo de columnas\n",
    "columnas_requeridad=['BLUE_EFFICIENCY', 'MONTO_VENTA', 'PROVINCIA_CLIENTE_ANTOFAGASTA',\n",
    "       'PROVINCIA_CLIENTE_ARAUCO', 'PROVINCIA_CLIENTE_ARICA',\n",
    "       'PROVINCIA_CLIENTE_BIO BIO', 'PROVINCIA_CLIENTE_CACHAPOAL',\n",
    "       'PROVINCIA_CLIENTE_CALERA DE TANGO', 'PROVINCIA_CLIENTE_CARDENAL CARO',\n",
    "       'PROVINCIA_CLIENTE_CAUQUENES', 'PROVINCIA_CLIENTE_CAUTIN',\n",
    "       'PROVINCIA_CLIENTE_CHACABUCO', 'PROVINCIA_CLIENTE_CHAÑARAL',\n",
    "       'PROVINCIA_CLIENTE_CHILOE', 'PROVINCIA_CLIENTE_CHOAPA',\n",
    "       'PROVINCIA_CLIENTE_COIHAIQUE', 'PROVINCIA_CLIENTE_COLCHAGUA',\n",
    "       'PROVINCIA_CLIENTE_COLINA', 'PROVINCIA_CLIENTE_CONCEPCION',\n",
    "       'PROVINCIA_CLIENTE_COPIAPO', 'PROVINCIA_CLIENTE_CORDILLERA',\n",
    "       'PROVINCIA_CLIENTE_COYHAIQUE', 'PROVINCIA_CLIENTE_CURICO',\n",
    "       'PROVINCIA_CLIENTE_EL LOA', 'PROVINCIA_CLIENTE_ELQUI',\n",
    "       'PROVINCIA_CLIENTE_HUASCO', 'PROVINCIA_CLIENTE_IQUIQUE',\n",
    "       'PROVINCIA_CLIENTE_LIMARI', 'PROVINCIA_CLIENTE_LINARES',\n",
    "       'PROVINCIA_CLIENTE_LLANQUIHUE', 'PROVINCIA_CLIENTE_LOS ANDES',\n",
    "       'PROVINCIA_CLIENTE_MAGALLANES', 'PROVINCIA_CLIENTE_MAIPO',\n",
    "       'PROVINCIA_CLIENTE_MALLECO', 'PROVINCIA_CLIENTE_MARGA MARGA',\n",
    "       'PROVINCIA_CLIENTE_MELIPILLA', 'PROVINCIA_CLIENTE_OSORNO',\n",
    "       'PROVINCIA_CLIENTE_PADRE HURTADO', 'PROVINCIA_CLIENTE_PETORCA',\n",
    "       'PROVINCIA_CLIENTE_PUCON', 'PROVINCIA_CLIENTE_QUILLOTA',\n",
    "       'PROVINCIA_CLIENTE_RANCAGUA', 'PROVINCIA_CLIENTE_RANCO',\n",
    "       'PROVINCIA_CLIENTE_SAN ANTONIO',\n",
    "       'PROVINCIA_CLIENTE_SAN FELIPE DE ACONCAGUA',\n",
    "       'PROVINCIA_CLIENTE_SAN JOSE DE MAIPO', 'PROVINCIA_CLIENTE_SANTIAGO',\n",
    "       'PROVINCIA_CLIENTE_TALAGANTE', 'PROVINCIA_CLIENTE_TALCA',\n",
    "       'PROVINCIA_CLIENTE_TAMARUGAL', 'PROVINCIA_CLIENTE_ULTIMA ESPERANZA',\n",
    "       'PROVINCIA_CLIENTE_VALDIVIA', 'PROVINCIA_CLIENTE_VALPARAISO',\n",
    "       'PROVINCIA_CLIENTE_ÑUBLE', 'MODELO_VEHICULO_CLASE A',\n",
    "       'MODELO_VEHICULO_CLASE AMG', 'MODELO_VEHICULO_CLASE B',\n",
    "       'MODELO_VEHICULO_CLASE C', 'MODELO_VEHICULO_CLASE CL',\n",
    "       'MODELO_VEHICULO_CLASE CLA', 'MODELO_VEHICULO_CLASE E',\n",
    "       'MODELO_VEHICULO_CLASE G', 'MODELO_VEHICULO_CLASE GL',\n",
    "       'MODELO_VEHICULO_CLASE GLA', 'MODELO_VEHICULO_CLASE GLC',\n",
    "       'MODELO_VEHICULO_CLASE GLK', 'MODELO_VEHICULO_CLASE ML',\n",
    "       'MODELO_VEHICULO_CLASE S', 'MODELO_VEHICULO_CLASE SL',\n",
    "       'MODELO_VEHICULO_CLASE SLK', 'FAMILIA_DREAM CARS', 'FAMILIA_MID SIZE',\n",
    "       'FAMILIA_NGCC', 'FAMILIA_SUV', 'TIPO_PERS_0', 'TIPO_PERS_1',\n",
    "       'SEXO_CLIENTE_0', 'SEXO_CLIENTE_1', 'SEXO_CLIENTE_2',\n",
    "       'FORMA_DE_PAGO_FINANC. EXTERNO', 'FORMA_DE_PAGO_LEASING',\n",
    "       'FORMA_DE_PAGO_NORMAL']\n"
   ]
  },
  {
   "cell_type": "code",
   "execution_count": 38,
   "metadata": {},
   "outputs": [
    {
     "data": {
      "text/plain": [
       "{'PROVINCIA_CLIENTE': ['VALPARAISO'],\n",
       " 'FORMA_DE_PAGO': ['NORMAL'],\n",
       " 'FAMILIA': ['MID SIZE'],\n",
       " 'SEXO_CLIENTE': [2],\n",
       " 'BLUE_EFFICIENCY': [0],\n",
       " 'MODELO_VEHICULO': ['CLASE G'],\n",
       " 'MONTO_VENTA': [280002],\n",
       " 'TIPO_PERS': [1]}"
      ]
     },
     "execution_count": 38,
     "metadata": {},
     "output_type": "execute_result"
    }
   ],
   "source": [
    "#lectura de datos a predecir\n",
    "PROVINCIA_CLIENTE='VALPARAISO'\n",
    "FORMA_DE_PAGO=\"NORMAL\"\n",
    "FAMILIA='MID SIZE'\n",
    "SEXO_CLIENTE=2\n",
    "BLUE_EFFICIENCY=0\n",
    "MODELO_VEHICULO=\"CLASE G\"\n",
    "MONTO_VENTA=280002\n",
    "TIPO_PERS=1\n",
    "\n",
    "DATA = {\"PROVINCIA_CLIENTE\":[PROVINCIA_CLIENTE],\n",
    "           \"FORMA_DE_PAGO\":[FORMA_DE_PAGO],\n",
    "           \"FAMILIA\":[FAMILIA],\n",
    "           \"SEXO_CLIENTE\":[SEXO_CLIENTE],\n",
    "           \"BLUE_EFFICIENCY\":[BLUE_EFFICIENCY],\n",
    "           \"MODELO_VEHICULO\":[MODELO_VEHICULO],\n",
    "           \"MONTO_VENTA\":[MONTO_VENTA],\n",
    "           \"TIPO_PERS\":[TIPO_PERS]}\n",
    "\n",
    "DATA"
   ]
  },
  {
   "cell_type": "code",
   "execution_count": 39,
   "metadata": {},
   "outputs": [],
   "source": [
    "def variables_dummy(dataset,variable):\n",
    "    cat_dummies = pd.get_dummies(dataset[variable], prefix=variable)\n",
    "    data_new = dataset.join(cat_dummies)\n",
    "    dataset = data_new.drop([variable],axis=1)\n",
    "    return dataset"
   ]
  },
  {
   "cell_type": "code",
   "execution_count": 40,
   "metadata": {},
   "outputs": [
    {
     "data": {
      "text/html": [
       "<div>\n",
       "<style scoped>\n",
       "    .dataframe tbody tr th:only-of-type {\n",
       "        vertical-align: middle;\n",
       "    }\n",
       "\n",
       "    .dataframe tbody tr th {\n",
       "        vertical-align: top;\n",
       "    }\n",
       "\n",
       "    .dataframe thead th {\n",
       "        text-align: right;\n",
       "    }\n",
       "</style>\n",
       "<table border=\"1\" class=\"dataframe\">\n",
       "  <thead>\n",
       "    <tr style=\"text-align: right;\">\n",
       "      <th></th>\n",
       "      <th>BLUE_EFFICIENCY</th>\n",
       "      <th>MONTO_VENTA</th>\n",
       "      <th>PROVINCIA_CLIENTE_VALPARAISO</th>\n",
       "      <th>MODELO_VEHICULO_CLASE G</th>\n",
       "      <th>FAMILIA_MID SIZE</th>\n",
       "      <th>TIPO_PERS_1</th>\n",
       "      <th>SEXO_CLIENTE_2</th>\n",
       "      <th>FORMA_DE_PAGO_NORMAL</th>\n",
       "    </tr>\n",
       "  </thead>\n",
       "  <tbody>\n",
       "    <tr>\n",
       "      <th>0</th>\n",
       "      <td>0</td>\n",
       "      <td>280002</td>\n",
       "      <td>1</td>\n",
       "      <td>1</td>\n",
       "      <td>1</td>\n",
       "      <td>1</td>\n",
       "      <td>1</td>\n",
       "      <td>1</td>\n",
       "    </tr>\n",
       "  </tbody>\n",
       "</table>\n",
       "</div>"
      ],
      "text/plain": [
       "   BLUE_EFFICIENCY  MONTO_VENTA  PROVINCIA_CLIENTE_VALPARAISO  \\\n",
       "0                0       280002                             1   \n",
       "\n",
       "   MODELO_VEHICULO_CLASE G  FAMILIA_MID SIZE  TIPO_PERS_1  SEXO_CLIENTE_2  \\\n",
       "0                        1                 1            1               1   \n",
       "\n",
       "   FORMA_DE_PAGO_NORMAL  \n",
       "0                     1  "
      ]
     },
     "execution_count": 40,
     "metadata": {},
     "output_type": "execute_result"
    }
   ],
   "source": [
    "predecir = pd.DataFrame(DATA)\n",
    "tabla=variables_dummy(predecir,\"PROVINCIA_CLIENTE\")\n",
    "tabla=variables_dummy(tabla,\"MODELO_VEHICULO\")\n",
    "tabla=variables_dummy(tabla,\"FAMILIA\")\n",
    "tabla=variables_dummy(tabla,\"TIPO_PERS\")\n",
    "tabla=variables_dummy(tabla,\"SEXO_CLIENTE\")\n",
    "tabla=variables_dummy(tabla,\"FORMA_DE_PAGO\")\n",
    "tabla"
   ]
  },
  {
   "cell_type": "code",
   "execution_count": 41,
   "metadata": {},
   "outputs": [],
   "source": [
    "#cuales son los features que faltan, generamos columnas de 0\n",
    "d={}\n",
    "missing_cols = set(columnas_requeridad) - set( tabla.columns )\n",
    "for c in missing_cols:\n",
    "    d[c] = 0\n",
    "faltantes=pd.DataFrame(d,index=[0])\n"
   ]
  },
  {
   "cell_type": "code",
   "execution_count": 42,
   "metadata": {},
   "outputs": [],
   "source": [
    "FINAL = pd.concat([faltantes,tabla],axis=1)"
   ]
  },
  {
   "cell_type": "code",
   "execution_count": 43,
   "metadata": {},
   "outputs": [
    {
     "data": {
      "text/html": [
       "<div>\n",
       "<style scoped>\n",
       "    .dataframe tbody tr th:only-of-type {\n",
       "        vertical-align: middle;\n",
       "    }\n",
       "\n",
       "    .dataframe tbody tr th {\n",
       "        vertical-align: top;\n",
       "    }\n",
       "\n",
       "    .dataframe thead th {\n",
       "        text-align: right;\n",
       "    }\n",
       "</style>\n",
       "<table border=\"1\" class=\"dataframe\">\n",
       "  <thead>\n",
       "    <tr style=\"text-align: right;\">\n",
       "      <th></th>\n",
       "      <th>BLUE_EFFICIENCY</th>\n",
       "      <th>MONTO_VENTA</th>\n",
       "      <th>PROVINCIA_CLIENTE_ANTOFAGASTA</th>\n",
       "      <th>PROVINCIA_CLIENTE_ARAUCO</th>\n",
       "      <th>PROVINCIA_CLIENTE_ARICA</th>\n",
       "      <th>PROVINCIA_CLIENTE_BIO BIO</th>\n",
       "      <th>PROVINCIA_CLIENTE_CACHAPOAL</th>\n",
       "      <th>PROVINCIA_CLIENTE_CALERA DE TANGO</th>\n",
       "      <th>PROVINCIA_CLIENTE_CARDENAL CARO</th>\n",
       "      <th>PROVINCIA_CLIENTE_CAUQUENES</th>\n",
       "      <th>...</th>\n",
       "      <th>FAMILIA_NGCC</th>\n",
       "      <th>FAMILIA_SUV</th>\n",
       "      <th>TIPO_PERS_0</th>\n",
       "      <th>TIPO_PERS_1</th>\n",
       "      <th>SEXO_CLIENTE_0</th>\n",
       "      <th>SEXO_CLIENTE_1</th>\n",
       "      <th>SEXO_CLIENTE_2</th>\n",
       "      <th>FORMA_DE_PAGO_FINANC. EXTERNO</th>\n",
       "      <th>FORMA_DE_PAGO_LEASING</th>\n",
       "      <th>FORMA_DE_PAGO_NORMAL</th>\n",
       "    </tr>\n",
       "  </thead>\n",
       "  <tbody>\n",
       "    <tr>\n",
       "      <th>0</th>\n",
       "      <td>0</td>\n",
       "      <td>280002</td>\n",
       "      <td>0</td>\n",
       "      <td>0</td>\n",
       "      <td>0</td>\n",
       "      <td>0</td>\n",
       "      <td>0</td>\n",
       "      <td>0</td>\n",
       "      <td>0</td>\n",
       "      <td>0</td>\n",
       "      <td>...</td>\n",
       "      <td>0</td>\n",
       "      <td>0</td>\n",
       "      <td>0</td>\n",
       "      <td>1</td>\n",
       "      <td>0</td>\n",
       "      <td>0</td>\n",
       "      <td>1</td>\n",
       "      <td>0</td>\n",
       "      <td>0</td>\n",
       "      <td>1</td>\n",
       "    </tr>\n",
       "  </tbody>\n",
       "</table>\n",
       "<p>1 rows × 82 columns</p>\n",
       "</div>"
      ],
      "text/plain": [
       "   BLUE_EFFICIENCY  MONTO_VENTA  PROVINCIA_CLIENTE_ANTOFAGASTA  \\\n",
       "0                0       280002                              0   \n",
       "\n",
       "   PROVINCIA_CLIENTE_ARAUCO  PROVINCIA_CLIENTE_ARICA  \\\n",
       "0                         0                        0   \n",
       "\n",
       "   PROVINCIA_CLIENTE_BIO BIO  PROVINCIA_CLIENTE_CACHAPOAL  \\\n",
       "0                          0                            0   \n",
       "\n",
       "   PROVINCIA_CLIENTE_CALERA DE TANGO  PROVINCIA_CLIENTE_CARDENAL CARO  \\\n",
       "0                                  0                                0   \n",
       "\n",
       "   PROVINCIA_CLIENTE_CAUQUENES          ...           FAMILIA_NGCC  \\\n",
       "0                            0          ...                      0   \n",
       "\n",
       "   FAMILIA_SUV  TIPO_PERS_0  TIPO_PERS_1  SEXO_CLIENTE_0  SEXO_CLIENTE_1  \\\n",
       "0            0            0            1               0               0   \n",
       "\n",
       "   SEXO_CLIENTE_2  FORMA_DE_PAGO_FINANC. EXTERNO  FORMA_DE_PAGO_LEASING  \\\n",
       "0               1                              0                      0   \n",
       "\n",
       "   FORMA_DE_PAGO_NORMAL  \n",
       "0                     1  \n",
       "\n",
       "[1 rows x 82 columns]"
      ]
     },
     "execution_count": 43,
     "metadata": {},
     "output_type": "execute_result"
    }
   ],
   "source": [
    "FINAL=FINAL[columnas_requeridad]\n",
    "FINAL"
   ]
  },
  {
   "cell_type": "markdown",
   "metadata": {},
   "source": [
    "## Carga de modelo"
   ]
  },
  {
   "cell_type": "code",
   "execution_count": 44,
   "metadata": {},
   "outputs": [],
   "source": [
    "loaded_model = joblib.load('modelo_entrenado.pkl')"
   ]
  },
  {
   "cell_type": "code",
   "execution_count": 45,
   "metadata": {},
   "outputs": [
    {
     "data": {
      "text/plain": [
       "array([919.73976986])"
      ]
     },
     "execution_count": 45,
     "metadata": {},
     "output_type": "execute_result"
    }
   ],
   "source": [
    "loaded_model.predict(FINAL)"
   ]
  },
  {
   "cell_type": "code",
   "execution_count": null,
   "metadata": {},
   "outputs": [],
   "source": []
  },
  {
   "cell_type": "code",
   "execution_count": null,
   "metadata": {},
   "outputs": [],
   "source": []
  }
 ],
 "metadata": {
  "kernelspec": {
   "display_name": "Python 3",
   "language": "python",
   "name": "python3"
  },
  "language_info": {
   "codemirror_mode": {
    "name": "ipython",
    "version": 3
   },
   "file_extension": ".py",
   "mimetype": "text/x-python",
   "name": "python",
   "nbconvert_exporter": "python",
   "pygments_lexer": "ipython3",
   "version": "3.6.7"
  }
 },
 "nbformat": 4,
 "nbformat_minor": 2
}
